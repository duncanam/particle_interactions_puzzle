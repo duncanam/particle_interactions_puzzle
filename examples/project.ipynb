{
 "cells": [
  {
   "cell_type": "markdown",
   "id": "9f872066",
   "metadata": {},
   "source": [
    "# Particle Interactions Puzzle\n",
    "**By Duncan McGough**"
   ]
  },
  {
   "cell_type": "code",
   "execution_count": 3,
   "id": "5b1118a8",
   "metadata": {},
   "outputs": [],
   "source": [
    "import particle_interactions_puzzle as pi"
   ]
  }
 ],
 "metadata": {
  "kernelspec": {
   "display_name": "particle-interactions-puzzle",
   "language": "python",
   "name": "python3"
  },
  "language_info": {
   "codemirror_mode": {
    "name": "ipython",
    "version": 3
   },
   "file_extension": ".py",
   "mimetype": "text/x-python",
   "name": "python",
   "nbconvert_exporter": "python",
   "pygments_lexer": "ipython3",
   "version": "3.11.13"
  }
 },
 "nbformat": 4,
 "nbformat_minor": 5
}
