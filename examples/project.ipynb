{
 "cells": [
  {
   "cell_type": "markdown",
   "id": "9f872066",
   "metadata": {},
   "source": [
    "# Particle Interactions Puzzle\n",
    "**By Duncan McGough**"
   ]
  },
  {
   "cell_type": "code",
   "execution_count": 1,
   "id": "5b1118a8",
   "metadata": {},
   "outputs": [],
   "source": [
    "import particle_interactions_puzzle as pi"
   ]
  },
  {
   "cell_type": "code",
   "execution_count": 2,
   "id": "df19f5e7",
   "metadata": {},
   "outputs": [
    {
     "data": {
      "text/plain": [
       "=================== Simulation ===================\n",
       "Current time: 0\n",
       "Particles: 125\n",
       "Domain size: 5\n",
       "Timestep: 0.25"
      ]
     },
     "execution_count": 2,
     "metadata": {},
     "output_type": "execute_result"
    }
   ],
   "source": [
    "N = 125\n",
    "L = 5\n",
    "R = 1\n",
    "v = 1\n",
    "dt = 0.25\n",
    "\n",
    "eta = 0.1\n",
    "\n",
    "sim = pi.Simulation(N,L,eta,v,dt,R)\n",
    "sim"
   ]
  }
 ],
 "metadata": {
  "kernelspec": {
   "display_name": "particle-interactions-puzzle",
   "language": "python",
   "name": "python3"
  },
  "language_info": {
   "codemirror_mode": {
    "name": "ipython",
    "version": 3
   },
   "file_extension": ".py",
   "mimetype": "text/x-python",
   "name": "python",
   "nbconvert_exporter": "python",
   "pygments_lexer": "ipython3",
   "version": "3.11.13"
  }
 },
 "nbformat": 4,
 "nbformat_minor": 5
}
